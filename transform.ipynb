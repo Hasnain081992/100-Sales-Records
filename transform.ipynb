{
 "cells": [
  {
   "cell_type": "code",
   "execution_count": 164,
   "metadata": {},
   "outputs": [],
   "source": [
    "from pyspark.sql import SparkSession\n",
    "from pyspark.sql.functions import col, when, lit, avg"
   ]
  },
  {
   "cell_type": "code",
   "execution_count": 165,
   "metadata": {},
   "outputs": [],
   "source": [
    "spark = SparkSession.builder \\\n",
    "    .appName(\"Transfrom\") \\\n",
    "    .master(\"local[*]\") \\\n",
    "    .getOrCreate()"
   ]
  },
  {
   "cell_type": "code",
   "execution_count": 166,
   "metadata": {},
   "outputs": [],
   "source": [
    "path= r\"C://Users//44754//Downloads//sales.csv\""
   ]
  },
  {
   "cell_type": "code",
   "execution_count": 167,
   "metadata": {},
   "outputs": [],
   "source": [
    "dataframe = spark.read.csv(path,header = True, inferSchema = True)"
   ]
  },
  {
   "cell_type": "code",
   "execution_count": 168,
   "metadata": {},
   "outputs": [
    {
     "name": "stdout",
     "output_type": "stream",
     "text": [
      "+--------------------+--------------------+---------------+-------------+--------------+----------+---------+----------+----------+----------+---------+-------------+----------+------------+\n",
      "|              Region|             Country|      Item Type|Sales Channel|Order Priority|Order Date| Order ID| Ship Date|Units Sold|Unit Price|Unit Cost|Total Revenue|Total Cost|Total Profit|\n",
      "+--------------------+--------------------+---------------+-------------+--------------+----------+---------+----------+----------+----------+---------+-------------+----------+------------+\n",
      "|Australia and Oce...|              Tuvalu|      Baby Food|      Offline|             H| 5/28/2010|669165933| 6/27/2010|      9925|    255.28|   159.42|    2533654.0| 1582243.5|    951410.5|\n",
      "|Central America a...|             Grenada|         Cereal|       Online|             C| 8/22/2012|963881480| 9/15/2012|      2804|     205.7|   117.11|     576782.8| 328376.44|   248406.36|\n",
      "|              Europe|              Russia|Office Supplies|      Offline|             L|  5/2/2014|341417157|  5/8/2014|      1779|    651.21|   524.96|   1158502.59| 933903.84|   224598.75|\n",
      "|  Sub-Saharan Africa|Sao Tome and Prin...|         Fruits|       Online|             C| 6/20/2014|514321792|  7/5/2014|      8102|      9.33|     6.92|     75591.66|  56065.84|    19525.82|\n",
      "|  Sub-Saharan Africa|              Rwanda|Office Supplies|      Offline|             L|  2/1/2013|115456712|  2/6/2013|      5062|    651.21|   524.96|   3296425.02|2657347.52|    639077.5|\n",
      "|Australia and Oce...|     Solomon Islands|      Baby Food|       Online|             C|  2/4/2015|547995746| 2/21/2015|      2974|    255.28|   159.42|    759202.72| 474115.08|   285087.64|\n",
      "|  Sub-Saharan Africa|              Angola|      Household|      Offline|             M| 4/23/2011|135425221| 4/27/2011|      4187|    668.27|   502.54|   2798046.49|2104134.98|   693911.51|\n",
      "|  Sub-Saharan Africa|        Burkina Faso|     Vegetables|       Online|             H| 7/17/2012|871543967| 7/27/2012|      8082|    154.06|    90.93|   1245112.92| 734896.26|   510216.66|\n",
      "|  Sub-Saharan Africa|Republic of the C...|  Personal Care|      Offline|             M| 7/14/2015|770463311| 8/25/2015|      6070|     81.73|    56.67|     496101.1|  343986.9|    152114.2|\n",
      "|  Sub-Saharan Africa|             Senegal|         Cereal|       Online|             H| 4/18/2014|616607081| 5/30/2014|      6593|     205.7|   117.11|    1356180.1| 772106.23|   584073.87|\n",
      "|                Asia|          Kyrgyzstan|     Vegetables|       Online|             H| 6/24/2011|814711606| 7/12/2011|       124|    154.06|    90.93|     19103.44|  11275.32|     7828.12|\n",
      "|  Sub-Saharan Africa|          Cape Verde|        Clothes|      Offline|             H|  8/2/2014|939825713| 8/19/2014|      4168|    109.28|    35.84|    455479.04| 149381.12|   306097.92|\n",
      "|                Asia|          Bangladesh|        Clothes|       Online|             L| 1/13/2017|187310731|  3/1/2017|      8263|    109.28|    35.84|    902980.64| 296145.92|   606834.72|\n",
      "|Central America a...|            Honduras|      Household|      Offline|             H|  2/8/2017|522840487| 2/13/2017|      8974|    668.27|   502.54|   5997054.98|4509793.96|  1487261.02|\n",
      "|                Asia|            Mongolia|  Personal Care|      Offline|             C| 2/19/2014|832401311| 2/23/2014|      4901|     81.73|    56.67|    400558.73| 277739.67|   122819.06|\n",
      "|              Europe|            Bulgaria|        Clothes|       Online|             M| 4/23/2012|972292029|  6/3/2012|      1673|    109.28|    35.84|    182825.44|  59960.32|   122865.12|\n",
      "|                Asia|           Sri Lanka|      Cosmetics|      Offline|             M|11/19/2016|419123971|12/18/2016|      6952|     437.2|   263.33|    3039414.4|1830670.16|  1208744.24|\n",
      "|  Sub-Saharan Africa|            Cameroon|      Beverages|      Offline|             C|  4/1/2015|519820964| 4/18/2015|      5430|     47.45|    31.79|     257653.5|  172619.7|     85033.8|\n",
      "|                Asia|        Turkmenistan|      Household|      Offline|             L|12/30/2010|441619336| 1/20/2011|      3830|    668.27|   502.54|    2559474.1| 1924728.2|    634745.9|\n",
      "|Australia and Oce...|          East Timor|           Meat|       Online|             L| 7/31/2012|322067916| 9/11/2012|      5908|    421.89|   364.69|   2492526.12|2154588.52|    337937.6|\n",
      "+--------------------+--------------------+---------------+-------------+--------------+----------+---------+----------+----------+----------+---------+-------------+----------+------------+\n",
      "only showing top 20 rows\n",
      "\n"
     ]
    }
   ],
   "source": [
    "dataframe.show()"
   ]
  },
  {
   "cell_type": "code",
   "execution_count": 170,
   "metadata": {},
   "outputs": [
    {
     "name": "stdout",
     "output_type": "stream",
     "text": [
      "+--------------------+--------------------+---------------+-------------+--------------+-------------+---------+----------+----------+----------+---------+-------------+----------+------------+\n",
      "|              Region|             Country|      Item Type|Sales Channel|Order Priority|Purchase Date| Order ID| Ship Date|Units Sold|Unit Price|Unit Cost|Total Revenue|Total Cost|Total Profit|\n",
      "+--------------------+--------------------+---------------+-------------+--------------+-------------+---------+----------+----------+----------+---------+-------------+----------+------------+\n",
      "|Australia and Oce...|              Tuvalu|      Baby Food|      Offline|             H|    5/28/2010|669165933| 6/27/2010|      9925|    255.28|   159.42|    2533654.0| 1582243.5|    951410.5|\n",
      "|Central America a...|             Grenada|         Cereal|       Online|             C|    8/22/2012|963881480| 9/15/2012|      2804|     205.7|   117.11|     576782.8| 328376.44|   248406.36|\n",
      "|              Europe|              Russia|Office Supplies|      Offline|             L|     5/2/2014|341417157|  5/8/2014|      1779|    651.21|   524.96|   1158502.59| 933903.84|   224598.75|\n",
      "|  Sub-Saharan Africa|Sao Tome and Prin...|         Fruits|       Online|             C|    6/20/2014|514321792|  7/5/2014|      8102|      9.33|     6.92|     75591.66|  56065.84|    19525.82|\n",
      "|  Sub-Saharan Africa|              Rwanda|Office Supplies|      Offline|             L|     2/1/2013|115456712|  2/6/2013|      5062|    651.21|   524.96|   3296425.02|2657347.52|    639077.5|\n",
      "|Australia and Oce...|     Solomon Islands|      Baby Food|       Online|             C|     2/4/2015|547995746| 2/21/2015|      2974|    255.28|   159.42|    759202.72| 474115.08|   285087.64|\n",
      "|  Sub-Saharan Africa|              Angola|      Household|      Offline|             M|    4/23/2011|135425221| 4/27/2011|      4187|    668.27|   502.54|   2798046.49|2104134.98|   693911.51|\n",
      "|  Sub-Saharan Africa|        Burkina Faso|     Vegetables|       Online|             H|    7/17/2012|871543967| 7/27/2012|      8082|    154.06|    90.93|   1245112.92| 734896.26|   510216.66|\n",
      "|  Sub-Saharan Africa|Republic of the C...|  Personal Care|      Offline|             M|    7/14/2015|770463311| 8/25/2015|      6070|     81.73|    56.67|     496101.1|  343986.9|    152114.2|\n",
      "|  Sub-Saharan Africa|             Senegal|         Cereal|       Online|             H|    4/18/2014|616607081| 5/30/2014|      6593|     205.7|   117.11|    1356180.1| 772106.23|   584073.87|\n",
      "|                Asia|          Kyrgyzstan|     Vegetables|       Online|             H|    6/24/2011|814711606| 7/12/2011|       124|    154.06|    90.93|     19103.44|  11275.32|     7828.12|\n",
      "|  Sub-Saharan Africa|          Cape Verde|        Clothes|      Offline|             H|     8/2/2014|939825713| 8/19/2014|      4168|    109.28|    35.84|    455479.04| 149381.12|   306097.92|\n",
      "|                Asia|          Bangladesh|        Clothes|       Online|             L|    1/13/2017|187310731|  3/1/2017|      8263|    109.28|    35.84|    902980.64| 296145.92|   606834.72|\n",
      "|Central America a...|            Honduras|      Household|      Offline|             H|     2/8/2017|522840487| 2/13/2017|      8974|    668.27|   502.54|   5997054.98|4509793.96|  1487261.02|\n",
      "|                Asia|            Mongolia|  Personal Care|      Offline|             C|    2/19/2014|832401311| 2/23/2014|      4901|     81.73|    56.67|    400558.73| 277739.67|   122819.06|\n",
      "|              Europe|            Bulgaria|        Clothes|       Online|             M|    4/23/2012|972292029|  6/3/2012|      1673|    109.28|    35.84|    182825.44|  59960.32|   122865.12|\n",
      "|                Asia|           Sri Lanka|      Cosmetics|      Offline|             M|   11/19/2016|419123971|12/18/2016|      6952|     437.2|   263.33|    3039414.4|1830670.16|  1208744.24|\n",
      "|  Sub-Saharan Africa|            Cameroon|      Beverages|      Offline|             C|     4/1/2015|519820964| 4/18/2015|      5430|     47.45|    31.79|     257653.5|  172619.7|     85033.8|\n",
      "|                Asia|        Turkmenistan|      Household|      Offline|             L|   12/30/2010|441619336| 1/20/2011|      3830|    668.27|   502.54|    2559474.1| 1924728.2|    634745.9|\n",
      "|Australia and Oce...|          East Timor|           Meat|       Online|             L|    7/31/2012|322067916| 9/11/2012|      5908|    421.89|   364.69|   2492526.12|2154588.52|    337937.6|\n",
      "+--------------------+--------------------+---------------+-------------+--------------+-------------+---------+----------+----------+----------+---------+-------------+----------+------------+\n",
      "only showing top 20 rows\n",
      "\n"
     ]
    }
   ],
   "source": [
    "# rename the column\n",
    "dataframe = dataframe.withColumnRenamed('Order Date','Purchase Date')\n",
    "dataframe.show()"
   ]
  },
  {
   "cell_type": "code",
   "execution_count": 171,
   "metadata": {},
   "outputs": [
    {
     "data": {
      "text/plain": [
       "[('Region', 'string'),\n",
       " ('Country', 'string'),\n",
       " ('Item Type', 'string'),\n",
       " ('Sales Channel', 'string'),\n",
       " ('Order Priority', 'string'),\n",
       " ('Purchase Date', 'string'),\n",
       " ('Order ID', 'int'),\n",
       " ('Ship Date', 'string'),\n",
       " ('Units Sold', 'int'),\n",
       " ('Unit Price', 'double'),\n",
       " ('Unit Cost', 'double'),\n",
       " ('Total Revenue', 'double'),\n",
       " ('Total Cost', 'double'),\n",
       " ('Total Profit', 'double')]"
      ]
     },
     "execution_count": 171,
     "metadata": {},
     "output_type": "execute_result"
    }
   ],
   "source": [
    "dataframe.dtypes"
   ]
  },
  {
   "cell_type": "code",
   "execution_count": 173,
   "metadata": {},
   "outputs": [
    {
     "name": "stdout",
     "output_type": "stream",
     "text": [
      "+--------------------+------------+---------+-------------+--------------+-------------+---------+---------+----------+----------+---------+-------------+----------+------------+\n",
      "|              Region|     Country|Item Type|Sales Channel|Order Priority|Purchase Date| Order ID|Ship Date|Units Sold|Unit Price|Unit Cost|Total Revenue|Total Cost|Total Profit|\n",
      "+--------------------+------------+---------+-------------+--------------+-------------+---------+---------+----------+----------+---------+-------------+----------+------------+\n",
      "|  Sub-Saharan Africa|      Angola|Household|      Offline|             M|    4/23/2011|135425221|4/27/2011|      4187|    668.27|   502.54|   2798046.49|2104134.98|   693911.51|\n",
      "|Central America a...|    Honduras|Household|      Offline|             H|     2/8/2017|522840487|2/13/2017|      8974|    668.27|   502.54|   5997054.98|4509793.96|  1487261.02|\n",
      "|                Asia|Turkmenistan|Household|      Offline|             L|   12/30/2010|441619336|1/20/2011|      3830|    668.27|   502.54|    2559474.1| 1924728.2|    634745.9|\n",
      "|  Sub-Saharan Africa|  The Gambia|Household|      Offline|             L|    5/26/2012|886494815| 6/9/2012|      2370|    668.27|   502.54|    1583799.9| 1191019.8|    392780.1|\n",
      "|                Asia|     Myanmar|Household|      Offline|             H|    1/16/2015|177713572| 3/1/2015|      8250|    668.27|   502.54|    5513227.5| 4145955.0|   1367272.5|\n",
      "+--------------------+------------+---------+-------------+--------------+-------------+---------+---------+----------+----------+---------+-------------+----------+------------+\n",
      "only showing top 5 rows\n",
      "\n"
     ]
    }
   ],
   "source": [
    "# Filter Data Based on Condition\n",
    "dataframefilter = dataframe.filter(col('Item Type') == 'Household')\n",
    "dataframefilter.show(5)"
   ]
  },
  {
   "cell_type": "code",
   "execution_count": 184,
   "metadata": {},
   "outputs": [],
   "source": [
    "# rename a column\n",
    "dataframe1 = dataframe.withColumnRenamed('Total Revenue', 'Total Sales')\n"
   ]
  },
  {
   "cell_type": "code",
   "execution_count": 185,
   "metadata": {},
   "outputs": [],
   "source": [
    "dataframe2 = dataframe1.withColumnRenamed('Total Cost', 'Total Purchase')"
   ]
  },
  {
   "cell_type": "code",
   "execution_count": 186,
   "metadata": {},
   "outputs": [
    {
     "name": "stdout",
     "output_type": "stream",
     "text": [
      "+--------------------+--------------------+---------------+-------------+--------------+-------------+---------+----------+----------+----------+---------+-----------+--------------+------------+\n",
      "|              Region|             Country|      Item Type|Sales Channel|Order Priority|Purchase Date| Order ID| Ship Date|Units Sold|Unit Price|Unit Cost|Total Sales|Total Purchase|Total Profit|\n",
      "+--------------------+--------------------+---------------+-------------+--------------+-------------+---------+----------+----------+----------+---------+-----------+--------------+------------+\n",
      "|Australia and Oce...|              Tuvalu|      Baby Food|      Offline|             H|    5/28/2010|669165933| 6/27/2010|      9925|    255.28|   159.42|  2533654.0|     1582243.5|    951410.5|\n",
      "|Central America a...|             Grenada|         Cereal|       Online|             C|    8/22/2012|963881480| 9/15/2012|      2804|     205.7|   117.11|   576782.8|     328376.44|   248406.36|\n",
      "|              Europe|              Russia|Office Supplies|      Offline|             L|     5/2/2014|341417157|  5/8/2014|      1779|    651.21|   524.96| 1158502.59|     933903.84|   224598.75|\n",
      "|  Sub-Saharan Africa|Sao Tome and Prin...|         Fruits|       Online|             C|    6/20/2014|514321792|  7/5/2014|      8102|      9.33|     6.92|   75591.66|      56065.84|    19525.82|\n",
      "|  Sub-Saharan Africa|              Rwanda|Office Supplies|      Offline|             L|     2/1/2013|115456712|  2/6/2013|      5062|    651.21|   524.96| 3296425.02|    2657347.52|    639077.5|\n",
      "|Australia and Oce...|     Solomon Islands|      Baby Food|       Online|             C|     2/4/2015|547995746| 2/21/2015|      2974|    255.28|   159.42|  759202.72|     474115.08|   285087.64|\n",
      "|  Sub-Saharan Africa|              Angola|      Household|      Offline|             M|    4/23/2011|135425221| 4/27/2011|      4187|    668.27|   502.54| 2798046.49|    2104134.98|   693911.51|\n",
      "|  Sub-Saharan Africa|        Burkina Faso|     Vegetables|       Online|             H|    7/17/2012|871543967| 7/27/2012|      8082|    154.06|    90.93| 1245112.92|     734896.26|   510216.66|\n",
      "|  Sub-Saharan Africa|Republic of the C...|  Personal Care|      Offline|             M|    7/14/2015|770463311| 8/25/2015|      6070|     81.73|    56.67|   496101.1|      343986.9|    152114.2|\n",
      "|  Sub-Saharan Africa|             Senegal|         Cereal|       Online|             H|    4/18/2014|616607081| 5/30/2014|      6593|     205.7|   117.11|  1356180.1|     772106.23|   584073.87|\n",
      "|                Asia|          Kyrgyzstan|     Vegetables|       Online|             H|    6/24/2011|814711606| 7/12/2011|       124|    154.06|    90.93|   19103.44|      11275.32|     7828.12|\n",
      "|  Sub-Saharan Africa|          Cape Verde|        Clothes|      Offline|             H|     8/2/2014|939825713| 8/19/2014|      4168|    109.28|    35.84|  455479.04|     149381.12|   306097.92|\n",
      "|                Asia|          Bangladesh|        Clothes|       Online|             L|    1/13/2017|187310731|  3/1/2017|      8263|    109.28|    35.84|  902980.64|     296145.92|   606834.72|\n",
      "|Central America a...|            Honduras|      Household|      Offline|             H|     2/8/2017|522840487| 2/13/2017|      8974|    668.27|   502.54| 5997054.98|    4509793.96|  1487261.02|\n",
      "|                Asia|            Mongolia|  Personal Care|      Offline|             C|    2/19/2014|832401311| 2/23/2014|      4901|     81.73|    56.67|  400558.73|     277739.67|   122819.06|\n",
      "|              Europe|            Bulgaria|        Clothes|       Online|             M|    4/23/2012|972292029|  6/3/2012|      1673|    109.28|    35.84|  182825.44|      59960.32|   122865.12|\n",
      "|                Asia|           Sri Lanka|      Cosmetics|      Offline|             M|   11/19/2016|419123971|12/18/2016|      6952|     437.2|   263.33|  3039414.4|    1830670.16|  1208744.24|\n",
      "|  Sub-Saharan Africa|            Cameroon|      Beverages|      Offline|             C|     4/1/2015|519820964| 4/18/2015|      5430|     47.45|    31.79|   257653.5|      172619.7|     85033.8|\n",
      "|                Asia|        Turkmenistan|      Household|      Offline|             L|   12/30/2010|441619336| 1/20/2011|      3830|    668.27|   502.54|  2559474.1|     1924728.2|    634745.9|\n",
      "|Australia and Oce...|          East Timor|           Meat|       Online|             L|    7/31/2012|322067916| 9/11/2012|      5908|    421.89|   364.69| 2492526.12|    2154588.52|    337937.6|\n",
      "+--------------------+--------------------+---------------+-------------+--------------+-------------+---------+----------+----------+----------+---------+-----------+--------------+------------+\n",
      "only showing top 20 rows\n",
      "\n"
     ]
    }
   ],
   "source": [
    "dataframe2.show()"
   ]
  },
  {
   "cell_type": "code",
   "execution_count": 163,
   "metadata": {},
   "outputs": [
    {
     "name": "stdout",
     "output_type": "stream",
     "text": [
      "+--------------------+--------------------+---------------+-------------+--------------+-------------+---------+---------+----------+----------+---------+----------+------------+-----------------+\n",
      "|              Region|             Country|      Item Type|Sales Channel|Order Priority|Purchase Date| Order ID|Ship Date|Units Sold|Unit Price|Unit Cost|Total Cost|Total Profit|      Total sales|\n",
      "+--------------------+--------------------+---------------+-------------+--------------+-------------+---------+---------+----------+----------+---------+----------+------------+-----------------+\n",
      "|Australia and Oce...|              Tuvalu|      Baby Food|      Offline|             H|    5/28/2010|669165933|6/27/2010|      9925|    255.28|   159.42| 1582243.5|    951410.5|        2533654.0|\n",
      "|Central America a...|             Grenada|         Cereal|       Online|             C|    8/22/2012|963881480|9/15/2012|      2804|     205.7|   117.11| 328376.44|   248406.36|576782.7999999999|\n",
      "|              Europe|              Russia|Office Supplies|      Offline|             L|     5/2/2014|341417157| 5/8/2014|      1779|    651.21|   524.96| 933903.84|   224598.75|       1158502.59|\n",
      "|  Sub-Saharan Africa|Sao Tome and Prin...|         Fruits|       Online|             C|    6/20/2014|514321792| 7/5/2014|      8102|      9.33|     6.92|  56065.84|    19525.82|         75591.66|\n",
      "|  Sub-Saharan Africa|              Rwanda|Office Supplies|      Offline|             L|     2/1/2013|115456712| 2/6/2013|      5062|    651.21|   524.96|2657347.52|    639077.5|       3296425.02|\n",
      "+--------------------+--------------------+---------------+-------------+--------------+-------------+---------+---------+----------+----------+---------+----------+------------+-----------------+\n",
      "only showing top 5 rows\n",
      "\n"
     ]
    }
   ],
   "source": [
    "# Add a new column\n",
    "\n",
    "dataframe = dataframe.withColumn('Total sales', col('Unit Price') * col('Units Sold'))\n",
    "dataframe.show(5)"
   ]
  },
  {
   "cell_type": "code",
   "execution_count": 187,
   "metadata": {},
   "outputs": [
    {
     "data": {
      "text/plain": [
       "[('Region', 'string'),\n",
       " ('Country', 'string'),\n",
       " ('Item Type', 'string'),\n",
       " ('Sales Channel', 'string'),\n",
       " ('Order Priority', 'string'),\n",
       " ('Purchase Date', 'string'),\n",
       " ('Order ID', 'int'),\n",
       " ('Ship Date', 'string'),\n",
       " ('Units Sold', 'int'),\n",
       " ('Unit Price', 'double'),\n",
       " ('Unit Cost', 'double'),\n",
       " ('Total Sales', 'double'),\n",
       " ('Total Purchase', 'double'),\n",
       " ('Total Profit', 'double')]"
      ]
     },
     "execution_count": 187,
     "metadata": {},
     "output_type": "execute_result"
    }
   ],
   "source": [
    "dataframe2.dtypes"
   ]
  },
  {
   "cell_type": "code",
   "execution_count": 188,
   "metadata": {},
   "outputs": [],
   "source": [
    "# drop a column\n",
    "\n",
    "dataframe3 = dataframe2.drop('Total Revenue')"
   ]
  },
  {
   "cell_type": "code",
   "execution_count": 189,
   "metadata": {},
   "outputs": [
    {
     "name": "stdout",
     "output_type": "stream",
     "text": [
      "+--------------------+--------------------+---------------+-------------+--------------+-------------+---------+---------+----------+----------+---------+-----------+--------------+------------+\n",
      "|              Region|             Country|      Item Type|Sales Channel|Order Priority|Purchase Date| Order ID|Ship Date|Units Sold|Unit Price|Unit Cost|Total Sales|Total Purchase|Total Profit|\n",
      "+--------------------+--------------------+---------------+-------------+--------------+-------------+---------+---------+----------+----------+---------+-----------+--------------+------------+\n",
      "|Australia and Oce...|              Tuvalu|      Baby Food|      Offline|             H|    5/28/2010|669165933|6/27/2010|      9925|    255.28|   159.42|  2533654.0|     1582243.5|    951410.5|\n",
      "|Central America a...|             Grenada|         Cereal|       Online|             C|    8/22/2012|963881480|9/15/2012|      2804|     205.7|   117.11|   576782.8|     328376.44|   248406.36|\n",
      "|              Europe|              Russia|Office Supplies|      Offline|             L|     5/2/2014|341417157| 5/8/2014|      1779|    651.21|   524.96| 1158502.59|     933903.84|   224598.75|\n",
      "|  Sub-Saharan Africa|Sao Tome and Prin...|         Fruits|       Online|             C|    6/20/2014|514321792| 7/5/2014|      8102|      9.33|     6.92|   75591.66|      56065.84|    19525.82|\n",
      "|  Sub-Saharan Africa|              Rwanda|Office Supplies|      Offline|             L|     2/1/2013|115456712| 2/6/2013|      5062|    651.21|   524.96| 3296425.02|    2657347.52|    639077.5|\n",
      "+--------------------+--------------------+---------------+-------------+--------------+-------------+---------+---------+----------+----------+---------+-----------+--------------+------------+\n",
      "only showing top 5 rows\n",
      "\n"
     ]
    }
   ],
   "source": [
    "dataframe3.show(5)"
   ]
  },
  {
   "cell_type": "code",
   "execution_count": 79,
   "metadata": {},
   "outputs": [],
   "source": []
  },
  {
   "cell_type": "code",
   "execution_count": null,
   "metadata": {},
   "outputs": [],
   "source": []
  },
  {
   "cell_type": "code",
   "execution_count": 190,
   "metadata": {},
   "outputs": [],
   "source": [
    "#drop orderid\n",
    "dataframe4 = dataframe3.drop('Order ID')"
   ]
  },
  {
   "cell_type": "code",
   "execution_count": 191,
   "metadata": {},
   "outputs": [
    {
     "data": {
      "text/plain": [
       "[('Region', 'string'),\n",
       " ('Country', 'string'),\n",
       " ('Item Type', 'string'),\n",
       " ('Sales Channel', 'string'),\n",
       " ('Order Priority', 'string'),\n",
       " ('Purchase Date', 'string'),\n",
       " ('Ship Date', 'string'),\n",
       " ('Units Sold', 'int'),\n",
       " ('Unit Price', 'double'),\n",
       " ('Unit Cost', 'double'),\n",
       " ('Total Sales', 'double'),\n",
       " ('Total Purchase', 'double'),\n",
       " ('Total Profit', 'double')]"
      ]
     },
     "execution_count": 191,
     "metadata": {},
     "output_type": "execute_result"
    }
   ],
   "source": [
    "dataframe4.dtypes"
   ]
  },
  {
   "cell_type": "code",
   "execution_count": null,
   "metadata": {},
   "outputs": [],
   "source": [
    "\n"
   ]
  },
  {
   "cell_type": "code",
   "execution_count": 192,
   "metadata": {},
   "outputs": [],
   "source": [
    "# Group By and Aggregate\n",
    "groupdf = dataframe4.groupBy('Order Priority').agg(sum('Total sales'))"
   ]
  },
  {
   "cell_type": "code",
   "execution_count": 193,
   "metadata": {},
   "outputs": [],
   "source": [
    "from pyspark.sql.functions import col, lit, when, sum, avg"
   ]
  },
  {
   "cell_type": "code",
   "execution_count": 194,
   "metadata": {},
   "outputs": [
    {
     "name": "stdout",
     "output_type": "stream",
     "text": [
      "+--------------+--------------------+\n",
      "|Order Priority|    sum(Total sales)|\n",
      "+--------------+--------------------+\n",
      "|             L|       3.662812746E7|\n",
      "|             M|3.3116031750000004E7|\n",
      "|             C|1.8855063050000004E7|\n",
      "|             H| 4.874954604999999E7|\n",
      "+--------------+--------------------+\n",
      "\n"
     ]
    }
   ],
   "source": [
    "groupdf.show()"
   ]
  },
  {
   "cell_type": "code",
   "execution_count": 154,
   "metadata": {},
   "outputs": [],
   "source": [
    "# how to format sum(total sales)\n",
    "from pyspark.sql.functions import sum, format_number\n"
   ]
  },
  {
   "cell_type": "code",
   "execution_count": 196,
   "metadata": {},
   "outputs": [],
   "source": [
    "formatted_df = dataframe4.groupBy(\"Order Priority\") \\\n",
    "    .agg(sum(\"Total Sales\").alias(\"Total_Sales_Sum\")) \\\n",
    "    .withColumn(\"Formatted_Total_Sales\", format_number(\"Total_Sales_Sum\", 2)) \\\n",
    "    .select(\"Order Priority\", \"Formatted_Total_Sales\")"
   ]
  },
  {
   "cell_type": "code",
   "execution_count": 197,
   "metadata": {},
   "outputs": [
    {
     "name": "stdout",
     "output_type": "stream",
     "text": [
      "+--------------+---------------------+\n",
      "|Order Priority|Formatted_Total_Sales|\n",
      "+--------------+---------------------+\n",
      "|             L|        36,628,127.46|\n",
      "|             M|        33,116,031.75|\n",
      "|             C|        18,855,063.05|\n",
      "|             H|        48,749,546.05|\n",
      "+--------------+---------------------+\n",
      "\n"
     ]
    }
   ],
   "source": [
    "formatted_df.show()"
   ]
  },
  {
   "cell_type": "code",
   "execution_count": 199,
   "metadata": {},
   "outputs": [],
   "source": [
    "\n",
    "# group by revenue\n",
    "revenue = dataframe4.groupBy('Region').sum('Total Sales')"
   ]
  },
  {
   "cell_type": "code",
   "execution_count": 201,
   "metadata": {},
   "outputs": [
    {
     "name": "stdout",
     "output_type": "stream",
     "text": [
      "+--------------------+--------------------+\n",
      "|              Region|    sum(Total Sales)|\n",
      "+--------------------+--------------------+\n",
      "|Middle East and N...|       1.405270658E7|\n",
      "|Australia and Oce...|1.4094265130000003E7|\n",
      "|              Europe|       3.336893211E7|\n",
      "|  Sub-Saharan Africa| 3.967203143000001E7|\n",
      "|Central America a...|          9170385.49|\n",
      "|       North America|   5643356.550000001|\n",
      "|                Asia|2.1347091020000003E7|\n",
      "+--------------------+--------------------+\n",
      "\n"
     ]
    }
   ],
   "source": [
    "revenue.show()"
   ]
  },
  {
   "cell_type": "code",
   "execution_count": null,
   "metadata": {},
   "outputs": [],
   "source": []
  },
  {
   "cell_type": "code",
   "execution_count": 204,
   "metadata": {},
   "outputs": [],
   "source": [
    "formatreg = revenue.withColumn(\"sum(Total Sales)\", format_number(col(\"sum(Total Sales)\"),2))"
   ]
  },
  {
   "cell_type": "code",
   "execution_count": 226,
   "metadata": {},
   "outputs": [
    {
     "name": "stdout",
     "output_type": "stream",
     "text": [
      "+--------------------+----------------+\n",
      "|              Region|sum(Total Sales)|\n",
      "+--------------------+----------------+\n",
      "|Middle East and N...|   14,052,706.58|\n",
      "|Australia and Oce...|   14,094,265.13|\n",
      "|              Europe|   33,368,932.11|\n",
      "|  Sub-Saharan Africa|   39,672,031.43|\n",
      "|Central America a...|    9,170,385.49|\n",
      "|       North America|    5,643,356.55|\n",
      "|                Asia|   21,347,091.02|\n",
      "+--------------------+----------------+\n",
      "\n"
     ]
    }
   ],
   "source": [
    "formatreg.show()"
   ]
  },
  {
   "cell_type": "code",
   "execution_count": 227,
   "metadata": {},
   "outputs": [],
   "source": [
    "# sort data by column\n",
    "sortdf = dataframe4.orderBy('Order Priority')"
   ]
  },
  {
   "cell_type": "code",
   "execution_count": 229,
   "metadata": {},
   "outputs": [
    {
     "name": "stdout",
     "output_type": "stream",
     "text": [
      "+--------------------+--------------------+---------------+-------------+--------------+-------------+----------+----------+----------+---------+-----------+--------------+------------+\n",
      "|              Region|             Country|      Item Type|Sales Channel|Order Priority|Purchase Date| Ship Date|Units Sold|Unit Price|Unit Cost|Total Sales|Total Purchase|Total Profit|\n",
      "+--------------------+--------------------+---------------+-------------+--------------+-------------+----------+----------+----------+---------+-----------+--------------+------------+\n",
      "|Central America a...|             Grenada|         Cereal|       Online|             C|    8/22/2012| 9/15/2012|      2804|     205.7|   117.11|   576782.8|     328376.44|   248406.36|\n",
      "|  Sub-Saharan Africa|Sao Tome and Prin...|         Fruits|       Online|             C|    6/20/2014|  7/5/2014|      8102|      9.33|     6.92|   75591.66|      56065.84|    19525.82|\n",
      "|Australia and Oce...|     Solomon Islands|      Baby Food|       Online|             C|     2/4/2015| 2/21/2015|      2974|    255.28|   159.42|  759202.72|     474115.08|   285087.64|\n",
      "|                Asia|            Mongolia|  Personal Care|      Offline|             C|    2/19/2014| 2/23/2014|      4901|     81.73|    56.67|  400558.73|     277739.67|   122819.06|\n",
      "|  Sub-Saharan Africa|            Cameroon|      Beverages|      Offline|             C|     4/1/2015| 4/18/2015|      5430|     47.45|    31.79|   257653.5|      172619.7|     85033.8|\n",
      "|              Europe|           Macedonia|        Clothes|      Offline|             C|   10/14/2014|11/14/2014|      7842|    109.28|    35.84|  856973.76|     281057.28|   575916.48|\n",
      "|              Europe|              Norway|      Beverages|      Offline|             C|    7/18/2014| 7/30/2014|      5124|     47.45|    31.79|   243133.8|     162891.96|    80241.84|\n",
      "|  Sub-Saharan Africa|         South Sudan|  Personal Care|      Offline|             C|   12/29/2013| 1/28/2014|      2125|     81.73|    56.67|  173676.25|     120423.75|     53252.5|\n",
      "|Australia and Oce...|           Australia|Office Supplies|       Online|             C|   10/27/2015|11/25/2015|      2924|    651.21|   524.96| 1904138.04|    1534983.04|    369155.0|\n",
      "|              Europe|             Iceland|      Cosmetics|       Online|             C|   12/31/2016|12/31/2016|      8867|     437.2|   263.33|  3876652.4|    2334947.11|  1541705.29|\n",
      "|  Sub-Saharan Africa|          Mauritania|Office Supplies|      Offline|             C|    1/11/2012| 1/13/2012|      1266|    651.21|   524.96|  824431.86|     664599.36|    159832.5|\n",
      "|              Europe|             Albania|        Clothes|       Online|             C|     2/2/2010| 3/18/2010|      2269|    109.28|    35.84|  247956.32|      81320.96|   166635.36|\n",
      "|  Sub-Saharan Africa|       Cote d'Ivoire|        Clothes|       Online|             C|     6/8/2012| 6/27/2012|      3482|    109.28|    35.84|  380512.96|     124794.88|   255718.08|\n",
      "|Australia and Oce...|                Fiji|        Clothes|      Offline|             C|    6/30/2010|  8/1/2010|      9905|    109.28|    35.84|  1082418.4|      354995.2|    727423.2|\n",
      "|  Sub-Saharan Africa|Democratic Republ...|      Beverages|       Online|             C|    5/26/2011| 7/15/2011|      5741|     47.45|    31.79|  272410.45|     182506.39|    89904.06|\n",
      "|       North America|              Mexico|      Household|      Offline|             C|    11/6/2014|12/12/2014|      6954|    668.27|   502.54| 4647149.58|    3494663.16|  1152486.42|\n",
      "|Australia and Oce...|Federated States ...|      Beverages|       Online|             C|   10/28/2014|11/15/2014|      9379|     47.45|    31.79|  445033.55|     298158.41|   146875.14|\n",
      "|                Asia|                Laos|     Vegetables|      Offline|             C|    9/15/2011|10/23/2011|      3732|    154.06|    90.93|  574951.92|     339350.76|   235601.16|\n",
      "|  Sub-Saharan Africa|Sao Tome and Prin...|      Beverages|      Offline|             C|    1/16/2011| 1/21/2011|      8829|     47.45|    31.79|  418936.05|     280673.91|   138262.14|\n",
      "|              Europe|            Slovenia|      Beverages|      Offline|             C|   10/23/2016|11/25/2016|      4660|     47.45|    31.79|   221117.0|      148141.4|     72975.6|\n",
      "+--------------------+--------------------+---------------+-------------+--------------+-------------+----------+----------+----------+---------+-----------+--------------+------------+\n",
      "only showing top 20 rows\n",
      "\n"
     ]
    }
   ],
   "source": [
    "sortdf.show()\n"
   ]
  },
  {
   "cell_type": "code",
   "execution_count": 230,
   "metadata": {},
   "outputs": [],
   "source": [
    "# replaced value in column\n",
    "relaced = dataframe4.withColumn('Sales Channel', when(col('Sales Channel') == 'online',1). otherwise(0))"
   ]
  },
  {
   "cell_type": "code",
   "execution_count": 232,
   "metadata": {},
   "outputs": [
    {
     "name": "stdout",
     "output_type": "stream",
     "text": [
      "+--------------------+--------------------+---------------+-------------+--------------+-------------+----------+----------+----------+---------+-----------+--------------+------------+\n",
      "|              Region|             Country|      Item Type|Sales Channel|Order Priority|Purchase Date| Ship Date|Units Sold|Unit Price|Unit Cost|Total Sales|Total Purchase|Total Profit|\n",
      "+--------------------+--------------------+---------------+-------------+--------------+-------------+----------+----------+----------+---------+-----------+--------------+------------+\n",
      "|Australia and Oce...|              Tuvalu|      Baby Food|            0|             H|    5/28/2010| 6/27/2010|      9925|    255.28|   159.42|  2533654.0|     1582243.5|    951410.5|\n",
      "|Central America a...|             Grenada|         Cereal|            0|             C|    8/22/2012| 9/15/2012|      2804|     205.7|   117.11|   576782.8|     328376.44|   248406.36|\n",
      "|              Europe|              Russia|Office Supplies|            0|             L|     5/2/2014|  5/8/2014|      1779|    651.21|   524.96| 1158502.59|     933903.84|   224598.75|\n",
      "|  Sub-Saharan Africa|Sao Tome and Prin...|         Fruits|            0|             C|    6/20/2014|  7/5/2014|      8102|      9.33|     6.92|   75591.66|      56065.84|    19525.82|\n",
      "|  Sub-Saharan Africa|              Rwanda|Office Supplies|            0|             L|     2/1/2013|  2/6/2013|      5062|    651.21|   524.96| 3296425.02|    2657347.52|    639077.5|\n",
      "|Australia and Oce...|     Solomon Islands|      Baby Food|            0|             C|     2/4/2015| 2/21/2015|      2974|    255.28|   159.42|  759202.72|     474115.08|   285087.64|\n",
      "|  Sub-Saharan Africa|              Angola|      Household|            0|             M|    4/23/2011| 4/27/2011|      4187|    668.27|   502.54| 2798046.49|    2104134.98|   693911.51|\n",
      "|  Sub-Saharan Africa|        Burkina Faso|     Vegetables|            0|             H|    7/17/2012| 7/27/2012|      8082|    154.06|    90.93| 1245112.92|     734896.26|   510216.66|\n",
      "|  Sub-Saharan Africa|Republic of the C...|  Personal Care|            0|             M|    7/14/2015| 8/25/2015|      6070|     81.73|    56.67|   496101.1|      343986.9|    152114.2|\n",
      "|  Sub-Saharan Africa|             Senegal|         Cereal|            0|             H|    4/18/2014| 5/30/2014|      6593|     205.7|   117.11|  1356180.1|     772106.23|   584073.87|\n",
      "|                Asia|          Kyrgyzstan|     Vegetables|            0|             H|    6/24/2011| 7/12/2011|       124|    154.06|    90.93|   19103.44|      11275.32|     7828.12|\n",
      "|  Sub-Saharan Africa|          Cape Verde|        Clothes|            0|             H|     8/2/2014| 8/19/2014|      4168|    109.28|    35.84|  455479.04|     149381.12|   306097.92|\n",
      "|                Asia|          Bangladesh|        Clothes|            0|             L|    1/13/2017|  3/1/2017|      8263|    109.28|    35.84|  902980.64|     296145.92|   606834.72|\n",
      "|Central America a...|            Honduras|      Household|            0|             H|     2/8/2017| 2/13/2017|      8974|    668.27|   502.54| 5997054.98|    4509793.96|  1487261.02|\n",
      "|                Asia|            Mongolia|  Personal Care|            0|             C|    2/19/2014| 2/23/2014|      4901|     81.73|    56.67|  400558.73|     277739.67|   122819.06|\n",
      "|              Europe|            Bulgaria|        Clothes|            0|             M|    4/23/2012|  6/3/2012|      1673|    109.28|    35.84|  182825.44|      59960.32|   122865.12|\n",
      "|                Asia|           Sri Lanka|      Cosmetics|            0|             M|   11/19/2016|12/18/2016|      6952|     437.2|   263.33|  3039414.4|    1830670.16|  1208744.24|\n",
      "|  Sub-Saharan Africa|            Cameroon|      Beverages|            0|             C|     4/1/2015| 4/18/2015|      5430|     47.45|    31.79|   257653.5|      172619.7|     85033.8|\n",
      "|                Asia|        Turkmenistan|      Household|            0|             L|   12/30/2010| 1/20/2011|      3830|    668.27|   502.54|  2559474.1|     1924728.2|    634745.9|\n",
      "|Australia and Oce...|          East Timor|           Meat|            0|             L|    7/31/2012| 9/11/2012|      5908|    421.89|   364.69| 2492526.12|    2154588.52|    337937.6|\n",
      "+--------------------+--------------------+---------------+-------------+--------------+-------------+----------+----------+----------+---------+-----------+--------------+------------+\n",
      "only showing top 20 rows\n",
      "\n"
     ]
    }
   ],
   "source": [
    "relaced.show()"
   ]
  },
  {
   "cell_type": "code",
   "execution_count": 243,
   "metadata": {},
   "outputs": [],
   "source": [
    "#group by sales\n",
    "groupchannel = dataframe4.groupBy(\"Sales Channel\").agg(sum(\"Total Sales\").alias('Total Salessum'))"
   ]
  },
  {
   "cell_type": "code",
   "execution_count": 244,
   "metadata": {},
   "outputs": [
    {
     "name": "stdout",
     "output_type": "stream",
     "text": [
      "+-------------+-------------------+\n",
      "|Sales Channel|     Total Salessum|\n",
      "+-------------+-------------------+\n",
      "|       Online|5.825395911000001E7|\n",
      "|      Offline|7.909480919999997E7|\n",
      "+-------------+-------------------+\n",
      "\n"
     ]
    }
   ],
   "source": [
    "groupchannel.show()"
   ]
  },
  {
   "cell_type": "code",
   "execution_count": 249,
   "metadata": {},
   "outputs": [],
   "source": [
    "formatted_df = groupchannel.withColumn(\"Total Salessum\", format_number(col(\"Total Salessum\"), 2))\n"
   ]
  },
  {
   "cell_type": "code",
   "execution_count": 250,
   "metadata": {},
   "outputs": [
    {
     "name": "stdout",
     "output_type": "stream",
     "text": [
      "+-------------+--------------+\n",
      "|Sales Channel|Total Salessum|\n",
      "+-------------+--------------+\n",
      "|       Online| 58,253,959.11|\n",
      "|      Offline| 79,094,809.20|\n",
      "+-------------+--------------+\n",
      "\n"
     ]
    }
   ],
   "source": [
    "formatted_df.show()"
   ]
  },
  {
   "cell_type": "code",
   "execution_count": null,
   "metadata": {},
   "outputs": [],
   "source": []
  },
  {
   "cell_type": "code",
   "execution_count": null,
   "metadata": {},
   "outputs": [],
   "source": [
    "\n"
   ]
  },
  {
   "cell_type": "code",
   "execution_count": null,
   "metadata": {},
   "outputs": [],
   "source": []
  },
  {
   "cell_type": "code",
   "execution_count": null,
   "metadata": {},
   "outputs": [],
   "source": []
  },
  {
   "cell_type": "code",
   "execution_count": null,
   "metadata": {},
   "outputs": [],
   "source": []
  }
 ],
 "metadata": {
  "kernelspec": {
   "display_name": "Python 3",
   "language": "python",
   "name": "python3"
  },
  "language_info": {
   "codemirror_mode": {
    "name": "ipython",
    "version": 3
   },
   "file_extension": ".py",
   "mimetype": "text/x-python",
   "name": "python",
   "nbconvert_exporter": "python",
   "pygments_lexer": "ipython3",
   "version": "3.11.9"
  }
 },
 "nbformat": 4,
 "nbformat_minor": 2
}
