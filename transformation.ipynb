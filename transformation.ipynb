{
 "cells": [
  {
   "cell_type": "code",
   "execution_count": 30,
   "metadata": {},
   "outputs": [
    {
     "name": "stdout",
     "output_type": "stream",
     "text": [
      "Requirement already satisfied: pyspark in c:\\app\\spark-3.5.3-bin-hadoop3\\python (3.5.3)\n",
      "Requirement already satisfied: py4j==0.10.9.7 in c:\\users\\44754\\appdata\\local\\packages\\pythonsoftwarefoundation.python.3.11_qbz5n2kfra8p0\\localcache\\local-packages\\python311\\site-packages (from pyspark) (0.10.9.7)\n",
      "Note: you may need to restart the kernel to use updated packages.\n"
     ]
    }
   ],
   "source": [
    "pip install pyspark"
   ]
  },
  {
   "cell_type": "code",
   "execution_count": 31,
   "metadata": {},
   "outputs": [],
   "source": [
    "from pyspark.sql import SparkSession"
   ]
  },
  {
   "cell_type": "code",
   "execution_count": 32,
   "metadata": {},
   "outputs": [],
   "source": [
    "spark = SparkSession.builder.appName('Practice').getOrCreate()"
   ]
  },
  {
   "cell_type": "code",
   "execution_count": 5,
   "metadata": {},
   "outputs": [
    {
     "data": {
      "text/html": [
       "\n",
       "            <div>\n",
       "                <p><b>SparkSession - in-memory</b></p>\n",
       "                \n",
       "        <div>\n",
       "            <p><b>SparkContext</b></p>\n",
       "\n",
       "            <p><a href=\"http://host.docker.internal:4040\">Spark UI</a></p>\n",
       "\n",
       "            <dl>\n",
       "              <dt>Version</dt>\n",
       "                <dd><code>v3.5.3</code></dd>\n",
       "              <dt>Master</dt>\n",
       "                <dd><code>local[*]</code></dd>\n",
       "              <dt>AppName</dt>\n",
       "                <dd><code>Practice</code></dd>\n",
       "            </dl>\n",
       "        </div>\n",
       "        \n",
       "            </div>\n",
       "        "
      ],
      "text/plain": [
       "<pyspark.sql.session.SparkSession at 0x1fc60b6d150>"
      ]
     },
     "execution_count": 5,
     "metadata": {},
     "output_type": "execute_result"
    }
   ],
   "source": [
    "spark"
   ]
  },
  {
   "cell_type": "code",
   "execution_count": 33,
   "metadata": {},
   "outputs": [],
   "source": [
    "df_pyspark=spark.read.csv(r\"C://Users//44754//Downloads//sales.csv\")"
   ]
  },
  {
   "cell_type": "code",
   "execution_count": 9,
   "metadata": {},
   "outputs": [
    {
     "name": "stdout",
     "output_type": "stream",
     "text": [
      "+--------------------+--------------------+---------------+-------------+--------------+----------+---------+----------+----------+----------+---------+-------------+----------+------------+\n",
      "|                 _c0|                 _c1|            _c2|          _c3|           _c4|       _c5|      _c6|       _c7|       _c8|       _c9|     _c10|         _c11|      _c12|        _c13|\n",
      "+--------------------+--------------------+---------------+-------------+--------------+----------+---------+----------+----------+----------+---------+-------------+----------+------------+\n",
      "|              Region|             Country|      Item Type|Sales Channel|Order Priority|Order Date| Order ID| Ship Date|Units Sold|Unit Price|Unit Cost|Total Revenue|Total Cost|Total Profit|\n",
      "|Australia and Oce...|              Tuvalu|      Baby Food|      Offline|             H| 5/28/2010|669165933| 6/27/2010|      9925|    255.28|   159.42|   2533654.00|1582243.50|   951410.50|\n",
      "|Central America a...|             Grenada|         Cereal|       Online|             C| 8/22/2012|963881480| 9/15/2012|      2804|    205.70|   117.11|    576782.80| 328376.44|   248406.36|\n",
      "|              Europe|              Russia|Office Supplies|      Offline|             L|  5/2/2014|341417157|  5/8/2014|      1779|    651.21|   524.96|   1158502.59| 933903.84|   224598.75|\n",
      "|  Sub-Saharan Africa|Sao Tome and Prin...|         Fruits|       Online|             C| 6/20/2014|514321792|  7/5/2014|      8102|      9.33|     6.92|     75591.66|  56065.84|    19525.82|\n",
      "|  Sub-Saharan Africa|              Rwanda|Office Supplies|      Offline|             L|  2/1/2013|115456712|  2/6/2013|      5062|    651.21|   524.96|   3296425.02|2657347.52|   639077.50|\n",
      "|Australia and Oce...|     Solomon Islands|      Baby Food|       Online|             C|  2/4/2015|547995746| 2/21/2015|      2974|    255.28|   159.42|    759202.72| 474115.08|   285087.64|\n",
      "|  Sub-Saharan Africa|              Angola|      Household|      Offline|             M| 4/23/2011|135425221| 4/27/2011|      4187|    668.27|   502.54|   2798046.49|2104134.98|   693911.51|\n",
      "|  Sub-Saharan Africa|        Burkina Faso|     Vegetables|       Online|             H| 7/17/2012|871543967| 7/27/2012|      8082|    154.06|    90.93|   1245112.92| 734896.26|   510216.66|\n",
      "|  Sub-Saharan Africa|Republic of the C...|  Personal Care|      Offline|             M| 7/14/2015|770463311| 8/25/2015|      6070|     81.73|    56.67|    496101.10| 343986.90|   152114.20|\n",
      "|  Sub-Saharan Africa|             Senegal|         Cereal|       Online|             H| 4/18/2014|616607081| 5/30/2014|      6593|    205.70|   117.11|   1356180.10| 772106.23|   584073.87|\n",
      "|                Asia|          Kyrgyzstan|     Vegetables|       Online|             H| 6/24/2011|814711606| 7/12/2011|       124|    154.06|    90.93|     19103.44|  11275.32|     7828.12|\n",
      "|  Sub-Saharan Africa|          Cape Verde|        Clothes|      Offline|             H|  8/2/2014|939825713| 8/19/2014|      4168|    109.28|    35.84|    455479.04| 149381.12|   306097.92|\n",
      "|                Asia|          Bangladesh|        Clothes|       Online|             L| 1/13/2017|187310731|  3/1/2017|      8263|    109.28|    35.84|    902980.64| 296145.92|   606834.72|\n",
      "|Central America a...|            Honduras|      Household|      Offline|             H|  2/8/2017|522840487| 2/13/2017|      8974|    668.27|   502.54|   5997054.98|4509793.96|  1487261.02|\n",
      "|                Asia|            Mongolia|  Personal Care|      Offline|             C| 2/19/2014|832401311| 2/23/2014|      4901|     81.73|    56.67|    400558.73| 277739.67|   122819.06|\n",
      "|              Europe|            Bulgaria|        Clothes|       Online|             M| 4/23/2012|972292029|  6/3/2012|      1673|    109.28|    35.84|    182825.44|  59960.32|   122865.12|\n",
      "|                Asia|           Sri Lanka|      Cosmetics|      Offline|             M|11/19/2016|419123971|12/18/2016|      6952|    437.20|   263.33|   3039414.40|1830670.16|  1208744.24|\n",
      "|  Sub-Saharan Africa|            Cameroon|      Beverages|      Offline|             C|  4/1/2015|519820964| 4/18/2015|      5430|     47.45|    31.79|    257653.50| 172619.70|    85033.80|\n",
      "|                Asia|        Turkmenistan|      Household|      Offline|             L|12/30/2010|441619336| 1/20/2011|      3830|    668.27|   502.54|   2559474.10|1924728.20|   634745.90|\n",
      "+--------------------+--------------------+---------------+-------------+--------------+----------+---------+----------+----------+----------+---------+-------------+----------+------------+\n",
      "only showing top 20 rows\n",
      "\n"
     ]
    }
   ],
   "source": [
    "df_pyspark.show()"
   ]
  },
  {
   "cell_type": "code",
   "execution_count": 24,
   "metadata": {},
   "outputs": [
    {
     "name": "stdout",
     "output_type": "stream",
     "text": [
      "+--------------------+--------------------+---------------+-------------+--------------+----------+---------+----------+----------+----------+---------+-------------+----------+------------+\n",
      "|              Region|             Country|      Item Type|Sales Channel|Order Priority|Order Date| Order ID| Ship Date|Units Sold|Unit Price|Unit Cost|Total Revenue|Total Cost|Total Profit|\n",
      "+--------------------+--------------------+---------------+-------------+--------------+----------+---------+----------+----------+----------+---------+-------------+----------+------------+\n",
      "|Australia and Oce...|              Tuvalu|      Baby Food|      Offline|             H| 5/28/2010|669165933| 6/27/2010|      9925|    255.28|   159.42|   2533654.00|1582243.50|   951410.50|\n",
      "|Central America a...|             Grenada|         Cereal|       Online|             C| 8/22/2012|963881480| 9/15/2012|      2804|    205.70|   117.11|    576782.80| 328376.44|   248406.36|\n",
      "|              Europe|              Russia|Office Supplies|      Offline|             L|  5/2/2014|341417157|  5/8/2014|      1779|    651.21|   524.96|   1158502.59| 933903.84|   224598.75|\n",
      "|  Sub-Saharan Africa|Sao Tome and Prin...|         Fruits|       Online|             C| 6/20/2014|514321792|  7/5/2014|      8102|      9.33|     6.92|     75591.66|  56065.84|    19525.82|\n",
      "|  Sub-Saharan Africa|              Rwanda|Office Supplies|      Offline|             L|  2/1/2013|115456712|  2/6/2013|      5062|    651.21|   524.96|   3296425.02|2657347.52|   639077.50|\n",
      "|Australia and Oce...|     Solomon Islands|      Baby Food|       Online|             C|  2/4/2015|547995746| 2/21/2015|      2974|    255.28|   159.42|    759202.72| 474115.08|   285087.64|\n",
      "|  Sub-Saharan Africa|              Angola|      Household|      Offline|             M| 4/23/2011|135425221| 4/27/2011|      4187|    668.27|   502.54|   2798046.49|2104134.98|   693911.51|\n",
      "|  Sub-Saharan Africa|        Burkina Faso|     Vegetables|       Online|             H| 7/17/2012|871543967| 7/27/2012|      8082|    154.06|    90.93|   1245112.92| 734896.26|   510216.66|\n",
      "|  Sub-Saharan Africa|Republic of the C...|  Personal Care|      Offline|             M| 7/14/2015|770463311| 8/25/2015|      6070|     81.73|    56.67|    496101.10| 343986.90|   152114.20|\n",
      "|  Sub-Saharan Africa|             Senegal|         Cereal|       Online|             H| 4/18/2014|616607081| 5/30/2014|      6593|    205.70|   117.11|   1356180.10| 772106.23|   584073.87|\n",
      "|                Asia|          Kyrgyzstan|     Vegetables|       Online|             H| 6/24/2011|814711606| 7/12/2011|       124|    154.06|    90.93|     19103.44|  11275.32|     7828.12|\n",
      "|  Sub-Saharan Africa|          Cape Verde|        Clothes|      Offline|             H|  8/2/2014|939825713| 8/19/2014|      4168|    109.28|    35.84|    455479.04| 149381.12|   306097.92|\n",
      "|                Asia|          Bangladesh|        Clothes|       Online|             L| 1/13/2017|187310731|  3/1/2017|      8263|    109.28|    35.84|    902980.64| 296145.92|   606834.72|\n",
      "|Central America a...|            Honduras|      Household|      Offline|             H|  2/8/2017|522840487| 2/13/2017|      8974|    668.27|   502.54|   5997054.98|4509793.96|  1487261.02|\n",
      "|                Asia|            Mongolia|  Personal Care|      Offline|             C| 2/19/2014|832401311| 2/23/2014|      4901|     81.73|    56.67|    400558.73| 277739.67|   122819.06|\n",
      "|              Europe|            Bulgaria|        Clothes|       Online|             M| 4/23/2012|972292029|  6/3/2012|      1673|    109.28|    35.84|    182825.44|  59960.32|   122865.12|\n",
      "|                Asia|           Sri Lanka|      Cosmetics|      Offline|             M|11/19/2016|419123971|12/18/2016|      6952|    437.20|   263.33|   3039414.40|1830670.16|  1208744.24|\n",
      "|  Sub-Saharan Africa|            Cameroon|      Beverages|      Offline|             C|  4/1/2015|519820964| 4/18/2015|      5430|     47.45|    31.79|    257653.50| 172619.70|    85033.80|\n",
      "|                Asia|        Turkmenistan|      Household|      Offline|             L|12/30/2010|441619336| 1/20/2011|      3830|    668.27|   502.54|   2559474.10|1924728.20|   634745.90|\n",
      "|Australia and Oce...|          East Timor|           Meat|       Online|             L| 7/31/2012|322067916| 9/11/2012|      5908|    421.89|   364.69|   2492526.12|2154588.52|   337937.60|\n",
      "+--------------------+--------------------+---------------+-------------+--------------+----------+---------+----------+----------+----------+---------+-------------+----------+------------+\n",
      "only showing top 20 rows\n",
      "\n"
     ]
    }
   ],
   "source": [
    "df_pyspark =spark.read.option('header','true').csv(\"C://Users//44754//Downloads//sales.csv\").show()"
   ]
  },
  {
   "cell_type": "code",
   "execution_count": 34,
   "metadata": {},
   "outputs": [
    {
     "name": "stdout",
     "output_type": "stream",
     "text": [
      "+--------------------+--------------------+---------------+-------------+--------------+----------+---------+----------+----------+----------+---------+-------------+----------+------------+\n",
      "|                 _c0|                 _c1|            _c2|          _c3|           _c4|       _c5|      _c6|       _c7|       _c8|       _c9|     _c10|         _c11|      _c12|        _c13|\n",
      "+--------------------+--------------------+---------------+-------------+--------------+----------+---------+----------+----------+----------+---------+-------------+----------+------------+\n",
      "|              Region|             Country|      Item Type|Sales Channel|Order Priority|Order Date| Order ID| Ship Date|Units Sold|Unit Price|Unit Cost|Total Revenue|Total Cost|Total Profit|\n",
      "|Australia and Oce...|              Tuvalu|      Baby Food|      Offline|             H| 5/28/2010|669165933| 6/27/2010|      9925|    255.28|   159.42|   2533654.00|1582243.50|   951410.50|\n",
      "|Central America a...|             Grenada|         Cereal|       Online|             C| 8/22/2012|963881480| 9/15/2012|      2804|    205.70|   117.11|    576782.80| 328376.44|   248406.36|\n",
      "|              Europe|              Russia|Office Supplies|      Offline|             L|  5/2/2014|341417157|  5/8/2014|      1779|    651.21|   524.96|   1158502.59| 933903.84|   224598.75|\n",
      "|  Sub-Saharan Africa|Sao Tome and Prin...|         Fruits|       Online|             C| 6/20/2014|514321792|  7/5/2014|      8102|      9.33|     6.92|     75591.66|  56065.84|    19525.82|\n",
      "|  Sub-Saharan Africa|              Rwanda|Office Supplies|      Offline|             L|  2/1/2013|115456712|  2/6/2013|      5062|    651.21|   524.96|   3296425.02|2657347.52|   639077.50|\n",
      "|Australia and Oce...|     Solomon Islands|      Baby Food|       Online|             C|  2/4/2015|547995746| 2/21/2015|      2974|    255.28|   159.42|    759202.72| 474115.08|   285087.64|\n",
      "|  Sub-Saharan Africa|              Angola|      Household|      Offline|             M| 4/23/2011|135425221| 4/27/2011|      4187|    668.27|   502.54|   2798046.49|2104134.98|   693911.51|\n",
      "|  Sub-Saharan Africa|        Burkina Faso|     Vegetables|       Online|             H| 7/17/2012|871543967| 7/27/2012|      8082|    154.06|    90.93|   1245112.92| 734896.26|   510216.66|\n",
      "|  Sub-Saharan Africa|Republic of the C...|  Personal Care|      Offline|             M| 7/14/2015|770463311| 8/25/2015|      6070|     81.73|    56.67|    496101.10| 343986.90|   152114.20|\n",
      "|  Sub-Saharan Africa|             Senegal|         Cereal|       Online|             H| 4/18/2014|616607081| 5/30/2014|      6593|    205.70|   117.11|   1356180.10| 772106.23|   584073.87|\n",
      "|                Asia|          Kyrgyzstan|     Vegetables|       Online|             H| 6/24/2011|814711606| 7/12/2011|       124|    154.06|    90.93|     19103.44|  11275.32|     7828.12|\n",
      "|  Sub-Saharan Africa|          Cape Verde|        Clothes|      Offline|             H|  8/2/2014|939825713| 8/19/2014|      4168|    109.28|    35.84|    455479.04| 149381.12|   306097.92|\n",
      "|                Asia|          Bangladesh|        Clothes|       Online|             L| 1/13/2017|187310731|  3/1/2017|      8263|    109.28|    35.84|    902980.64| 296145.92|   606834.72|\n",
      "|Central America a...|            Honduras|      Household|      Offline|             H|  2/8/2017|522840487| 2/13/2017|      8974|    668.27|   502.54|   5997054.98|4509793.96|  1487261.02|\n",
      "|                Asia|            Mongolia|  Personal Care|      Offline|             C| 2/19/2014|832401311| 2/23/2014|      4901|     81.73|    56.67|    400558.73| 277739.67|   122819.06|\n",
      "|              Europe|            Bulgaria|        Clothes|       Online|             M| 4/23/2012|972292029|  6/3/2012|      1673|    109.28|    35.84|    182825.44|  59960.32|   122865.12|\n",
      "|                Asia|           Sri Lanka|      Cosmetics|      Offline|             M|11/19/2016|419123971|12/18/2016|      6952|    437.20|   263.33|   3039414.40|1830670.16|  1208744.24|\n",
      "|  Sub-Saharan Africa|            Cameroon|      Beverages|      Offline|             C|  4/1/2015|519820964| 4/18/2015|      5430|     47.45|    31.79|    257653.50| 172619.70|    85033.80|\n",
      "|                Asia|        Turkmenistan|      Household|      Offline|             L|12/30/2010|441619336| 1/20/2011|      3830|    668.27|   502.54|   2559474.10|1924728.20|   634745.90|\n",
      "+--------------------+--------------------+---------------+-------------+--------------+----------+---------+----------+----------+----------+---------+-------------+----------+------------+\n",
      "only showing top 20 rows\n",
      "\n"
     ]
    }
   ],
   "source": [
    "\n",
    "df_pyspark.show()"
   ]
  },
  {
   "cell_type": "code",
   "execution_count": 26,
   "metadata": {},
   "outputs": [],
   "source": [
    "from pyspark.sql.functions import col, when, lit, avg"
   ]
  },
  {
   "cell_type": "code",
   "execution_count": null,
   "metadata": {},
   "outputs": [],
   "source": []
  }
 ],
 "metadata": {
  "kernelspec": {
   "display_name": "Python 3",
   "language": "python",
   "name": "python3"
  },
  "language_info": {
   "codemirror_mode": {
    "name": "ipython",
    "version": 3
   },
   "file_extension": ".py",
   "mimetype": "text/x-python",
   "name": "python",
   "nbconvert_exporter": "python",
   "pygments_lexer": "ipython3",
   "version": "3.11.9"
  }
 },
 "nbformat": 4,
 "nbformat_minor": 2
}
